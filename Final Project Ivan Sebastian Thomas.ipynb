{
 "cells": [
  {
   "cell_type": "markdown",
   "id": "8f2246ad",
   "metadata": {},
   "source": [
    "# Financial Survival: How economic classes faced the COVID-19 Pandemic"
   ]
  },
  {
   "cell_type": "markdown",
   "id": "c2decc79",
   "metadata": {},
   "source": [
    "#### By Thomas Burdon, Sebastian Rojas, Ivan Garcia"
   ]
  },
  {
   "cell_type": "markdown",
   "id": "c4e34d63",
   "metadata": {},
   "source": [
    "    The COVID-19 virus had made an impact globally, "
   ]
  },
  {
   "cell_type": "code",
   "execution_count": null,
   "id": "a813fb50",
   "metadata": {},
   "outputs": [],
   "source": []
  }
 ],
 "metadata": {
  "kernelspec": {
   "display_name": "Python 3 (ipykernel)",
   "language": "python",
   "name": "python3"
  },
  "language_info": {
   "codemirror_mode": {
    "name": "ipython",
    "version": 3
   },
   "file_extension": ".py",
   "mimetype": "text/x-python",
   "name": "python",
   "nbconvert_exporter": "python",
   "pygments_lexer": "ipython3",
   "version": "3.11.4"
  }
 },
 "nbformat": 4,
 "nbformat_minor": 5
}
